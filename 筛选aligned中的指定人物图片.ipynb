{
 "cells": [
  {
   "cell_type": "markdown",
   "metadata": {},
   "source": [
    "## 导入需要的库\n",
    "缺失的库通过pip install 来安装  \n",
    "如缺失face_recognition库，则在命令行中输入  \n",
    "pip install face_recognition\n"
   ]
  },
  {
   "cell_type": "code",
   "execution_count": 1,
   "metadata": {},
   "outputs": [],
   "source": [
    "import face_recognition\n",
    "from pathlib import Path\n",
    "import glob\n",
    "import numpy as np\n",
    "from tqdm import tqdm\n",
    "import os\n",
    "import shutil\n"
   ]
  },
  {
   "cell_type": "markdown",
   "metadata": {},
   "source": [
    "## 定义工具函数"
   ]
  },
  {
   "cell_type": "code",
   "execution_count": 25,
   "metadata": {},
   "outputs": [],
   "source": [
    "def is_same_people(known_encoding, unknown_face_encoding):\n",
    "    # 值得注意的是第一个参数是一个列表，可以传多个图片参数进行对比\n",
    "    face_distances = face_recognition.face_distance([known_encoding], unknown_face_encoding)\n",
    "    return face_distances[0] < 0.4\n",
    "    \n",
    "\n",
    "def move_img(img_path, face_path):\n",
    "    #移动图片\n",
    "    _,fullflname = os.path.split(img_path)\n",
    "    new_path = os.path.join(face_path, fullflname)\n",
    "    shutil.move(img_path, new_path)\n",
    "    \n",
    "def get_face_locations(face_type, width):\n",
    "    #根据图片分辨率和提脸类型，确定目标人脸大体位置\n",
    "    if face_type.lower() == \"f\":\n",
    "        x1 = 36 * width // 256\n",
    "        y1 = 221 * width // 256\n",
    "        x2 = 222 * width // 256\n",
    "        y2 = 35 * width // 256\n",
    "    elif face_type.lower() == \"wf\":\n",
    "        x1 = 142 * width // 512\n",
    "        y1 = 379 * width // 512\n",
    "        x2 = 409 * width // 512\n",
    "        y2 = 111 * width // 512\n",
    "    \n",
    "    return [(x1,y1,x2,y2)]"
   ]
  },
  {
   "cell_type": "markdown",
   "metadata": {},
   "source": [
    "## 输入待处理的文件路径\n",
    "input_folder ：待处理人脸图的通配符，如 aligned \n",
    "target_img_path ：目标人物的参考图片路径，  \n",
    "dst_folder_path ： 非目标人物的图片存放路径，脚本会把非目标人物的图移动到该文件夹中"
   ]
  },
  {
   "cell_type": "code",
   "execution_count": 22,
   "metadata": {},
   "outputs": [],
   "source": [
    "input_folder = r\"aligned\"\n",
    "target_img_path = r\"std_face/参考图片.jpg\"\n",
    "dst_folder_path = r\"deleted\""
   ]
  },
  {
   "cell_type": "markdown",
   "metadata": {},
   "source": [
    "## 选择人脸类型"
   ]
  },
  {
   "cell_type": "code",
   "execution_count": 23,
   "metadata": {},
   "outputs": [],
   "source": [
    "#人脸类型，填写WF或F\n",
    "face_type = \"WF\" # \"f\""
   ]
  },
  {
   "cell_type": "markdown",
   "metadata": {},
   "source": [
    "## 开始运行脚本"
   ]
  },
  {
   "cell_type": "code",
   "execution_count": 26,
   "metadata": {
    "scrolled": true
   },
   "outputs": [
    {
     "name": "stdout",
     "output_type": "stream",
     "text": [
      "正在判断aligned\\02828.jpg\n",
      "非目标人物，开始移动图片aligned\\02828.jpg\n",
      "正在判断aligned\\02829.jpg\n",
      "非目标人物，开始移动图片aligned\\02829.jpg\n",
      "正在判断aligned\\02830.jpg\n",
      "非目标人物，开始移动图片aligned\\02830.jpg\n",
      "正在判断aligned\\02831.jpg\n",
      "非目标人物，开始移动图片aligned\\02831.jpg\n",
      "正在判断aligned\\02832.jpg\n",
      "非目标人物，开始移动图片aligned\\02832.jpg\n",
      "正在判断aligned\\02833.jpg\n",
      "非目标人物，开始移动图片aligned\\02833.jpg\n",
      "正在判断aligned\\02834.jpg\n",
      "非目标人物，开始移动图片aligned\\02834.jpg\n",
      "正在判断aligned\\bbh (1).jpg\n",
      "非目标人物，开始移动图片aligned\\bbh (1).jpg\n",
      "正在判断aligned\\bbh (2).jpg\n",
      "非目标人物，开始移动图片aligned\\bbh (2).jpg\n",
      "正在判断aligned\\bbh (3).jpg\n",
      "非目标人物，开始移动图片aligned\\bbh (3).jpg\n",
      "正在判断aligned\\bbh (4).jpg\n",
      "非目标人物，开始移动图片aligned\\bbh (4).jpg\n",
      "正在判断aligned\\lyf (1).jpg\n",
      "正在判断aligned\\lyf (10).jpg\n",
      "正在判断aligned\\lyf (2).jpg\n",
      "正在判断aligned\\lyf (3).jpg\n",
      "正在判断aligned\\lyf (4).jpg\n",
      "正在判断aligned\\lyf (5).jpg\n",
      "正在判断aligned\\lyf (6).jpg\n",
      "正在判断aligned\\lyf (7).jpg\n",
      "正在判断aligned\\lyf (8).jpg\n",
      "正在判断aligned\\lyf (9).jpg\n"
     ]
    }
   ],
   "source": [
    "#创建目标路径\n",
    "face_path = Path(dst_folder_path)\n",
    "face_path.mkdir(exist_ok=True, parents=True)\n",
    "#读取标准图片,获取向量\n",
    "target_img = face_recognition.load_image_file(target_img_path)\n",
    "known_encoding = face_recognition.face_encodings(target_img)[0]\n",
    "\n",
    "\n",
    "#读取剩余图片\n",
    "for input_img_path in glob.glob(input_folder+\"/*.*g\"):\n",
    "    #读取图片\n",
    "    unknown_picture = face_recognition.load_image_file(input_img_path)\n",
    "    \n",
    "    #根据分辨率获取默认人脸位置坐标\n",
    "    default_face_locations = get_face_locations(face_type, width=unknown_picture.shape[0])\n",
    "    \n",
    "    #获取人脸向量\n",
    "    unknown_face_encoding = face_recognition.face_encodings(\n",
    "        unknown_picture,\n",
    "        known_face_locations=default_face_locations, \n",
    "        num_jitters=1, \n",
    "        model='large')[0]\n",
    "\n",
    "    #判定人脸相似度，不相似的话移动图片位置\n",
    "    print(f\"正在判断{input_img_path}\")\n",
    "    if not is_same_people(known_encoding, unknown_face_encoding):\n",
    "        #执行移动位置\n",
    "        print(f\"非目标人物，开始移动图片{input_img_path}\")\n",
    "        move_img(input_img_path, str(face_path))\n"
   ]
  },
  {
   "cell_type": "markdown",
   "metadata": {},
   "source": [
    "## （此处为调试用代码，无需运行）"
   ]
  },
  {
   "cell_type": "code",
   "execution_count": 14,
   "metadata": {},
   "outputs": [
    {
     "name": "stdout",
     "output_type": "stream",
     "text": [
      "(768, 768, 3)\n",
      "[(204, 589, 590, 204)]\n",
      "[-0.11172046  0.0457777   0.07221201 -0.05860013 -0.09913171 -0.10746294\n",
      " -0.02039983 -0.03829143  0.13855377 -0.06660436  0.1289268  -0.00495483\n",
      " -0.18126929  0.03376037  0.01384094  0.09895641 -0.0640658  -0.12112486\n",
      " -0.15560842 -0.08608872  0.03105353  0.04938766  0.00932081  0.07357091\n",
      " -0.05528838 -0.29511026 -0.1201542  -0.02807964 -0.02027649 -0.09522069\n",
      "  0.00102531  0.0934111  -0.09768453  0.01646403  0.0034061   0.04134832\n",
      " -0.03181118 -0.12695357  0.15226944  0.01076945 -0.24358405 -0.06913073\n",
      "  0.07414787  0.27873895  0.23178519  0.03911006  0.01368749  0.00034616\n",
      "  0.04978573 -0.30890596  0.07540167  0.14556089  0.03003103  0.09030119\n",
      "  0.11259685 -0.16739844  0.01729616  0.07206803 -0.12719427  0.00351869\n",
      "  0.01937855 -0.15059978 -0.02965659 -0.15799072  0.22563381  0.17688151\n",
      " -0.10478231 -0.14022499  0.13693283 -0.2161801  -0.08487168  0.09177859\n",
      " -0.13469742 -0.18125677 -0.24017379  0.0536489   0.34317628  0.22271314\n",
      " -0.12044413  0.04023782 -0.09798113 -0.00959439  0.01067213  0.09374607\n",
      " -0.03519611  0.0010406  -0.10618515  0.01121734  0.23210917 -0.06164768\n",
      " -0.03133475  0.21178743  0.01313268 -0.03847837 -0.0405168   0.02488993\n",
      " -0.04808581  0.02133507 -0.09754217  0.01951859  0.04739267 -0.06116872\n",
      " -0.01503238  0.09524813 -0.19583277  0.14591718 -0.00146305 -0.02917719\n",
      " -0.03264961 -0.01492813 -0.06212423 -0.04504854  0.1255707  -0.23595975\n",
      "  0.15864269  0.19835342  0.0698395   0.16937888 -0.01236276  0.12094749\n",
      "  0.01076155 -0.07009637 -0.11714695 -0.03640308  0.05048636  0.03372183\n",
      " -0.04300526  0.09819336]\n"
     ]
    }
   ],
   "source": [
    "image = face_recognition.load_image_file(r\"aligned\\02828.jpg\")\n",
    "print(image.shape)\n",
    "face_locations = face_recognition.face_locations(image)\n",
    "print(face_locations)\n",
    "encoding = face_recognition.face_encodings(image, known_face_locations=[(142,379,409,111)], num_jitters=1, model='large')[0]\n",
    "# top, right, bottom, left = face_locations[]\n",
    "print(encoding)\n"
   ]
  }
 ],
 "metadata": {
  "kernelspec": {
   "display_name": "Python 3",
   "language": "python",
   "name": "python3"
  },
  "language_info": {
   "codemirror_mode": {
    "name": "ipython",
    "version": 3
   },
   "file_extension": ".py",
   "mimetype": "text/x-python",
   "name": "python",
   "nbconvert_exporter": "python",
   "pygments_lexer": "ipython3",
   "version": "3.7.3"
  },
  "toc": {
   "base_numbering": 1,
   "nav_menu": {},
   "number_sections": true,
   "sideBar": true,
   "skip_h1_title": false,
   "title_cell": "Table of Contents",
   "title_sidebar": "Contents",
   "toc_cell": false,
   "toc_position": {},
   "toc_section_display": true,
   "toc_window_display": false
  }
 },
 "nbformat": 4,
 "nbformat_minor": 2
}
